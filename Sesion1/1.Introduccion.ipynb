{
 "cells": [
  {
   "cell_type": "code",
   "execution_count": 2,
   "metadata": {},
   "outputs": [
    {
     "name": "stdout",
     "output_type": "stream",
     "text": [
      "Es false\n"
     ]
    }
   ],
   "source": [
    "var1 = 6\n",
    "\n",
    "if var1 == '6' :\n",
    "    print(\"Es verdader\")\n",
    "    print(\"Ingreso!\")\n",
    "else :\n",
    "    print(\"Es false\")"
   ]
  },
  {
   "cell_type": "code",
   "execution_count": 3,
   "metadata": {},
   "outputs": [
    {
     "ename": "IndentationError",
     "evalue": "expected an indented block after 'if' statement on line 1 (1603549254.py, line 2)",
     "output_type": "error",
     "traceback": [
      "\u001b[0;36m  Cell \u001b[0;32mIn[3], line 2\u001b[0;36m\u001b[0m\n\u001b[0;31m    print(\"Es verdader\")\u001b[0m\n\u001b[0m    ^\u001b[0m\n\u001b[0;31mIndentationError\u001b[0m\u001b[0;31m:\u001b[0m expected an indented block after 'if' statement on line 1\n"
     ]
    }
   ],
   "source": [
    "if var1 == '6' :\n",
    "print(\"Es verdader\")\n",
    "print(\"Ingreso!\")\n",
    "else :\n",
    "print(\"Es false\")"
   ]
  },
  {
   "cell_type": "code",
   "execution_count": 4,
   "metadata": {},
   "outputs": [
    {
     "name": "stdout",
     "output_type": "stream",
     "text": [
      "Hola mundo\n"
     ]
    }
   ],
   "source": [
    "# Esto es un comentario\n",
    "# El metodo realiza tal accion\n",
    "print(\"Hola mundo\")"
   ]
  },
  {
   "cell_type": "code",
   "execution_count": 5,
   "metadata": {},
   "outputs": [
    {
     "name": "stdout",
     "output_type": "stream",
     "text": [
      "5\n",
      "DATAPATH\n"
     ]
    }
   ],
   "source": [
    "# variables\n",
    "\n",
    "a  = 5 # int\n",
    "b = \"DATAPATH\" # String\n",
    "\n",
    "print(a)\n",
    "print(b)\n"
   ]
  },
  {
   "cell_type": "code",
   "execution_count": 6,
   "metadata": {},
   "outputs": [
    {
     "name": "stdout",
     "output_type": "stream",
     "text": [
      "<class 'int'>\n",
      "<class 'str'>\n"
     ]
    }
   ],
   "source": [
    "print(type(a))\n",
    "print(type(b))"
   ]
  },
  {
   "cell_type": "code",
   "execution_count": 7,
   "metadata": {},
   "outputs": [
    {
     "name": "stdout",
     "output_type": "stream",
     "text": [
      "<class 'float'>\n"
     ]
    }
   ],
   "source": [
    "c = 2.0\n",
    "print(type(c))"
   ]
  },
  {
   "cell_type": "code",
   "execution_count": 8,
   "metadata": {},
   "outputs": [],
   "source": [
    "x, y, z = \"Manzana\" , \"Platano\", \"Pera\""
   ]
  },
  {
   "cell_type": "code",
   "execution_count": 11,
   "metadata": {},
   "outputs": [
    {
     "name": "stdout",
     "output_type": "stream",
     "text": [
      "Pera\n"
     ]
    }
   ],
   "source": [
    "print(z)"
   ]
  },
  {
   "cell_type": "code",
   "execution_count": 12,
   "metadata": {},
   "outputs": [],
   "source": [
    "# Tipos de datos\n",
    "\n",
    "#String\n",
    "\n",
    "var1 = \"Manzana\"\n",
    "var = 'Manzana'\n",
    "\n"
   ]
  },
  {
   "cell_type": "code",
   "execution_count": 15,
   "metadata": {},
   "outputs": [
    {
     "name": "stdout",
     "output_type": "stream",
     "text": [
      "Manzana\n",
      "M\n",
      "z\n"
     ]
    }
   ],
   "source": [
    "print(var1)\n",
    "print(var1[0])\n",
    "print(var1[3])"
   ]
  },
  {
   "cell_type": "code",
   "execution_count": 16,
   "metadata": {},
   "outputs": [],
   "source": [
    "# Numericos\n",
    "int_num = 10 \n",
    "float_num = 10.5\n",
    "complex_num = 3.14j"
   ]
  },
  {
   "cell_type": "code",
   "execution_count": 17,
   "metadata": {},
   "outputs": [
    {
     "name": "stdout",
     "output_type": "stream",
     "text": [
      "<class 'complex'>\n"
     ]
    }
   ],
   "source": [
    "print(type(complex_num))"
   ]
  },
  {
   "cell_type": "code",
   "execution_count": 18,
   "metadata": {},
   "outputs": [
    {
     "name": "stdout",
     "output_type": "stream",
     "text": [
      "[]\n",
      "[1, 2, 3, 4, 5]\n",
      "['Manzana', 'Platano']\n",
      "[1, 2, 'Manzana', 1.4j]\n"
     ]
    }
   ],
   "source": [
    "# listas\n",
    "\n",
    "list_1 = []\n",
    "\n",
    "list_2 = [1, 2, 3, 4, 5] # lista de enteros\n",
    "\n",
    "list_3 = ['Manzana', \"Platano\"] # lista de string\n",
    "\n",
    "list_4 = [1, 2, \"Manzana\", 1.4j]\n",
    "\n",
    "print(list_1)\n",
    "print(list_2)\n",
    "print(list_3)\n",
    "print(list_4)"
   ]
  },
  {
   "cell_type": "code",
   "execution_count": 19,
   "metadata": {},
   "outputs": [
    {
     "name": "stdout",
     "output_type": "stream",
     "text": [
      "['Manzana', [1, 2, 3], ['a', 'b']]\n"
     ]
    }
   ],
   "source": [
    "list_5 = [\"Manzana\", [1,2,3], ['a', 'b']] # lista anidada\n",
    "print(list_5)"
   ]
  },
  {
   "cell_type": "code",
   "execution_count": 20,
   "metadata": {},
   "outputs": [],
   "source": [
    "list_6 = ['x', 'y', 'z', ['a', 'b', 1, 2]]"
   ]
  },
  {
   "cell_type": "code",
   "execution_count": 26,
   "metadata": {},
   "outputs": [
    {
     "name": "stdout",
     "output_type": "stream",
     "text": [
      "b\n"
     ]
    }
   ],
   "source": [
    "print(list_6[3][1])"
   ]
  },
  {
   "cell_type": "code",
   "execution_count": 27,
   "metadata": {},
   "outputs": [
    {
     "ename": "TypeError",
     "evalue": "list indices must be integers or slices, not float",
     "output_type": "error",
     "traceback": [
      "\u001b[0;31m---------------------------------------------------------------------------\u001b[0m",
      "\u001b[0;31mTypeError\u001b[0m                                 Traceback (most recent call last)",
      "Cell \u001b[0;32mIn[27], line 1\u001b[0m\n\u001b[0;32m----> 1\u001b[0m \u001b[38;5;28mprint\u001b[39m(\u001b[43mlist_6\u001b[49m\u001b[43m[\u001b[49m\u001b[38;5;241;43m3.0\u001b[39;49m\u001b[43m]\u001b[49m)\n",
      "\u001b[0;31mTypeError\u001b[0m: list indices must be integers or slices, not float"
     ]
    }
   ],
   "source": [
    "print(list_6[3.0])"
   ]
  },
  {
   "cell_type": "code",
   "execution_count": 30,
   "metadata": {},
   "outputs": [
    {
     "name": "stdout",
     "output_type": "stream",
     "text": [
      "['x', 'y', 'z', ['a', 'b', 1, 2]]\n"
     ]
    }
   ],
   "source": [
    "print(list_6)"
   ]
  },
  {
   "cell_type": "code",
   "execution_count": 31,
   "metadata": {},
   "outputs": [
    {
     "name": "stdout",
     "output_type": "stream",
     "text": [
      "['y', 'z', ['a', 'b', 1, 2]]\n"
     ]
    }
   ],
   "source": [
    "print(list_6[1:4])"
   ]
  },
  {
   "cell_type": "code",
   "execution_count": 32,
   "metadata": {},
   "outputs": [
    {
     "name": "stdout",
     "output_type": "stream",
     "text": [
      "['z', ['a', 'b', 1, 2]]\n"
     ]
    }
   ],
   "source": [
    "print(list_6[2:])"
   ]
  },
  {
   "cell_type": "code",
   "execution_count": 33,
   "metadata": {},
   "outputs": [
    {
     "name": "stdout",
     "output_type": "stream",
     "text": [
      "['w', 'y', 'z', ['a', 'b', 1, 2]]\n"
     ]
    }
   ],
   "source": [
    "# Cambiando el primer elemento\n",
    "list_6[0] = 'w'\n",
    "print(list_6)"
   ]
  },
  {
   "cell_type": "code",
   "execution_count": 34,
   "metadata": {},
   "outputs": [],
   "source": [
    "list_6[0:3] = [1, 2, 3]"
   ]
  },
  {
   "cell_type": "code",
   "execution_count": 35,
   "metadata": {},
   "outputs": [
    {
     "name": "stdout",
     "output_type": "stream",
     "text": [
      "[1, 2, 3, ['a', 'b', 1, 2]]\n"
     ]
    }
   ],
   "source": [
    "print(list_6)"
   ]
  },
  {
   "cell_type": "code",
   "execution_count": 38,
   "metadata": {},
   "outputs": [
    {
     "name": "stdout",
     "output_type": "stream",
     "text": [
      "[1, 2, 3, ['a', 'b', 1, 2], 'm', 'm', ['b', 'n']]\n"
     ]
    }
   ],
   "source": [
    "# Append\n",
    "list_6.append(['b', 'n'])\n",
    "print(list_6)"
   ]
  },
  {
   "cell_type": "code",
   "execution_count": 39,
   "metadata": {},
   "outputs": [
    {
     "name": "stdout",
     "output_type": "stream",
     "text": [
      "[1, 2, 3, ['a', 'b', 1, 2], 'm', 'm', ['b', 'n'], 'b', 'n']\n"
     ]
    }
   ],
   "source": [
    "# Extend\n",
    "list_6.extend(['b', 'n'])\n",
    "print(list_6)"
   ]
  },
  {
   "cell_type": "code",
   "execution_count": 40,
   "metadata": {},
   "outputs": [
    {
     "name": "stdout",
     "output_type": "stream",
     "text": [
      "1\n",
      "2\n",
      "3\n",
      "['a', 'b', 1, 2]\n",
      "m\n",
      "m\n",
      "['b', 'n']\n",
      "b\n",
      "n\n"
     ]
    }
   ],
   "source": [
    "for element in list_6:\n",
    "    print(element)\n"
   ]
  },
  {
   "cell_type": "code",
   "execution_count": 41,
   "metadata": {},
   "outputs": [],
   "source": [
    "# Tuplas\n",
    "\n",
    "tupla_1 = ()"
   ]
  },
  {
   "cell_type": "code",
   "execution_count": 42,
   "metadata": {},
   "outputs": [
    {
     "name": "stdout",
     "output_type": "stream",
     "text": [
      "(1, 2, 3)\n"
     ]
    }
   ],
   "source": [
    "tupla_2 = (1, 2, 3)\n",
    "print(tupla_2)"
   ]
  },
  {
   "cell_type": "code",
   "execution_count": 43,
   "metadata": {},
   "outputs": [
    {
     "name": "stdout",
     "output_type": "stream",
     "text": [
      "(1, 2, 'Manzana', 5.4j)\n"
     ]
    }
   ],
   "source": [
    "tupla_3 = (1, 2, \"Manzana\", 5.4j)\n",
    "print(tupla_3)"
   ]
  },
  {
   "cell_type": "code",
   "execution_count": 44,
   "metadata": {},
   "outputs": [
    {
     "name": "stdout",
     "output_type": "stream",
     "text": [
      "((1, 2, 3), [2, 3, 4], 1, 5)\n"
     ]
    }
   ],
   "source": [
    "tupla_4 = ((1, 2, 3), [2, 3, 4], 1, 5)\n",
    "print(tupla_4)"
   ]
  },
  {
   "cell_type": "code",
   "execution_count": 46,
   "metadata": {},
   "outputs": [
    {
     "name": "stdout",
     "output_type": "stream",
     "text": [
      "<class 'tuple'>\n"
     ]
    }
   ],
   "source": [
    "print(type(tupla_4))"
   ]
  },
  {
   "cell_type": "code",
   "execution_count": 51,
   "metadata": {},
   "outputs": [
    {
     "name": "stdout",
     "output_type": "stream",
     "text": [
      "<class 'tuple'>\n"
     ]
    }
   ],
   "source": [
    "tupla_5 = (\"Manzana\",)\n",
    "print(type(tupla_5))"
   ]
  },
  {
   "cell_type": "code",
   "execution_count": 54,
   "metadata": {},
   "outputs": [
    {
     "name": "stdout",
     "output_type": "stream",
     "text": [
      "<class 'tuple'>\n"
     ]
    }
   ],
   "source": [
    "tupla_5 = \"Manzana\",\"Platano\"\n",
    "print(type(tupla_5))"
   ]
  },
  {
   "cell_type": "code",
   "execution_count": 59,
   "metadata": {},
   "outputs": [
    {
     "name": "stdout",
     "output_type": "stream",
     "text": [
      "3\n"
     ]
    }
   ],
   "source": [
    "print(tupla_4[1][1])"
   ]
  },
  {
   "cell_type": "code",
   "execution_count": 61,
   "metadata": {},
   "outputs": [
    {
     "name": "stdout",
     "output_type": "stream",
     "text": [
      "([2, 3, 4], 1)\n"
     ]
    }
   ],
   "source": [
    "print(tupla_4[1:3])"
   ]
  },
  {
   "cell_type": "code",
   "execution_count": 63,
   "metadata": {},
   "outputs": [
    {
     "name": "stdout",
     "output_type": "stream",
     "text": [
      "Juan\n",
      "Pedro\n"
     ]
    }
   ],
   "source": [
    "for nombre in (\"Juan\", \"Pedro\"):\n",
    "    print(nombre)"
   ]
  },
  {
   "cell_type": "code",
   "execution_count": 64,
   "metadata": {},
   "outputs": [],
   "source": [
    "# Diccionario\n",
    "# {\n",
    "#     \"nombre\": \"Juan\",\n",
    "#     \"apellido\": \"Perez\"\n",
    "# }\n",
    "\n",
    "dict_1 = {}\n",
    "\n",
    "dict_2 = { 1: 'Manzana', 2: 'Pera'}\n",
    "\n",
    "dict_3 = { \"nombre\": \"Juan\", \"apellido\": \"Perez\"}\n",
    "\n",
    "dict_4 = { 1: [12, 14, 15], \"nombre\": \"Juan\"}"
   ]
  },
  {
   "cell_type": "code",
   "execution_count": 65,
   "metadata": {},
   "outputs": [
    {
     "name": "stdout",
     "output_type": "stream",
     "text": [
      "{1: [12, 14, 15], 'nombre': 'Juan'}\n"
     ]
    }
   ],
   "source": [
    "print(dict_4)"
   ]
  },
  {
   "cell_type": "code",
   "execution_count": 67,
   "metadata": {},
   "outputs": [
    {
     "name": "stdout",
     "output_type": "stream",
     "text": [
      "Perez\n"
     ]
    }
   ],
   "source": [
    "print(dict_3['apellido'])"
   ]
  },
  {
   "cell_type": "code",
   "execution_count": 69,
   "metadata": {},
   "outputs": [
    {
     "name": "stdout",
     "output_type": "stream",
     "text": [
      "[12, 14, 15]\n",
      "Juan\n"
     ]
    }
   ],
   "source": [
    "print(dict_4[1])\n",
    "print(dict_4[\"nombre\"])\n"
   ]
  },
  {
   "cell_type": "code",
   "execution_count": 70,
   "metadata": {},
   "outputs": [],
   "source": [
    "dict_5 = {\"nombre\":\"Juan\", \"edad\": 25}"
   ]
  },
  {
   "cell_type": "code",
   "execution_count": 71,
   "metadata": {},
   "outputs": [
    {
     "name": "stdout",
     "output_type": "stream",
     "text": [
      "Juan\n",
      "Juan\n"
     ]
    }
   ],
   "source": [
    "print(dict_5[\"nombre\"])\n",
    "print(dict_5.get(\"nombre\"))"
   ]
  },
  {
   "cell_type": "code",
   "execution_count": 76,
   "metadata": {},
   "outputs": [
    {
     "name": "stdout",
     "output_type": "stream",
     "text": [
      "Lima\n"
     ]
    }
   ],
   "source": [
    "print(dict_5['direccion'])"
   ]
  },
  {
   "cell_type": "code",
   "execution_count": 73,
   "metadata": {},
   "outputs": [
    {
     "name": "stdout",
     "output_type": "stream",
     "text": [
      "None\n"
     ]
    }
   ],
   "source": [
    "print(dict_5.get(\"direccion\"))"
   ]
  },
  {
   "cell_type": "code",
   "execution_count": 74,
   "metadata": {},
   "outputs": [
    {
     "name": "stdout",
     "output_type": "stream",
     "text": [
      "{'nombre': 'Juan', 'edad': 28}\n"
     ]
    }
   ],
   "source": [
    "dict_5['edad'] = 28\n",
    "print(dict_5)"
   ]
  },
  {
   "cell_type": "code",
   "execution_count": 75,
   "metadata": {},
   "outputs": [
    {
     "name": "stdout",
     "output_type": "stream",
     "text": [
      "{'nombre': 'Juan', 'edad': 28, 'direccion': 'Lima'}\n"
     ]
    }
   ],
   "source": [
    "dict_5[\"direccion\"] = \"Lima\"\n",
    "print(dict_5)"
   ]
  },
  {
   "cell_type": "code",
   "execution_count": 79,
   "metadata": {},
   "outputs": [
    {
     "name": "stdout",
     "output_type": "stream",
     "text": [
      "nombre -> Juan\n",
      "edad -> 28\n",
      "direccion -> Lima\n"
     ]
    }
   ],
   "source": [
    "for key in dict_5:\n",
    "    print(key, '->', dict_5[key])"
   ]
  },
  {
   "cell_type": "code",
   "execution_count": 83,
   "metadata": {},
   "outputs": [
    {
     "name": "stdout",
     "output_type": "stream",
     "text": [
      "-5  es negativo\n"
     ]
    }
   ],
   "source": [
    "# Control de flujo\n",
    "\n",
    "# If\n",
    "\n",
    "num = -5\n",
    "\n",
    "if num > 0 :\n",
    "    print(num, \" es mayor que cero\")\n",
    "    print(\"Y es un numero positivo\")\n",
    "else :\n",
    "    print(num, \" es negativo\")"
   ]
  },
  {
   "cell_type": "code",
   "execution_count": 87,
   "metadata": {},
   "outputs": [
    {
     "name": "stdout",
     "output_type": "stream",
     "text": [
      "El numero es negativo\n"
     ]
    }
   ],
   "source": [
    "num = float(input(\"Ingresa un numero\"))\n",
    "\n",
    "if num >= 0 : \n",
    "    if num == 0:\n",
    "        print(\"El numero es cero\")\n",
    "    else:\n",
    "        print(\"El numero es positivo\")\n",
    "else :\n",
    "    print(\"El numero es negativo\")"
   ]
  },
  {
   "cell_type": "code",
   "execution_count": 89,
   "metadata": {},
   "outputs": [
    {
     "name": "stdout",
     "output_type": "stream",
     "text": [
      "1\n",
      "3\n",
      "6\n",
      "10\n",
      "15\n"
     ]
    }
   ],
   "source": [
    "numeros = [1, 2, 3, 4, 5]\n",
    "\n",
    "suma = 0\n",
    "\n",
    "for num in numeros:\n",
    "    suma = suma + num\n",
    "    print(suma)"
   ]
  },
  {
   "cell_type": "code",
   "execution_count": 101,
   "metadata": {},
   "outputs": [
    {
     "name": "stdout",
     "output_type": "stream",
     "text": [
      "La suma es  101475\n"
     ]
    }
   ],
   "source": [
    "n = 450\n",
    "suma = 0\n",
    "i = 1\n",
    "\n",
    "while i <= n:\n",
    "    suma +=i\n",
    "    i = i + 1\n",
    "\n",
    "print(\"La suma es \", suma)"
   ]
  },
  {
   "cell_type": "code",
   "execution_count": 94,
   "metadata": {},
   "outputs": [
    {
     "name": "stdout",
     "output_type": "stream",
     "text": [
      "M\n"
     ]
    }
   ],
   "source": [
    "for val in \"Manzana\":\n",
    "\n",
    "    if val == 'a':\n",
    "        break\n",
    "    print(val)"
   ]
  },
  {
   "cell_type": "code",
   "execution_count": 97,
   "metadata": {},
   "outputs": [],
   "source": [
    "def get_user():\n",
    "    pass"
   ]
  },
  {
   "cell_type": "code",
   "execution_count": 95,
   "metadata": {},
   "outputs": [
    {
     "name": "stdout",
     "output_type": "stream",
     "text": [
      "M\n",
      "a\n",
      "n\n",
      "z\n",
      "a\n",
      "n\n",
      "a\n"
     ]
    }
   ],
   "source": [
    "for val in \"Manzana\":\n",
    "\n",
    "    if val == 'a':\n",
    "        pass\n",
    "    print(val)"
   ]
  },
  {
   "cell_type": "code",
   "execution_count": 100,
   "metadata": {},
   "outputs": [
    {
     "name": "stdout",
     "output_type": "stream",
     "text": [
      "Try\n",
      "Error:\n",
      "division by zero\n"
     ]
    }
   ],
   "source": [
    "try:\n",
    "    print(\"Try\")\n",
    "    b = 5/0\n",
    "except Exception as e:\n",
    "    print(\"Error:\")\n",
    "    print(e)"
   ]
  },
  {
   "cell_type": "code",
   "execution_count": 107,
   "metadata": {},
   "outputs": [
    {
     "name": "stdout",
     "output_type": "stream",
     "text": [
      "8\n",
      "15\n",
      "1.6666666666666667\n",
      "1\n",
      "2\n",
      "125\n"
     ]
    }
   ],
   "source": [
    "#Operadores\n",
    "a = 5\n",
    "b = 3\n",
    "\n",
    "x = a; x+=b; print(x)\n",
    "x = a; x*=b; print(x)\n",
    "x = a; x/=b; print(x)\n",
    "x = a; x//=b; print(x)\n",
    "x = a; x%=b; print(x)\n",
    "x = a; x**=b; print(x)"
   ]
  },
  {
   "cell_type": "code",
   "execution_count": 114,
   "metadata": {},
   "outputs": [
    {
     "name": "stdout",
     "output_type": "stream",
     "text": [
      "2500\n"
     ]
    }
   ],
   "source": [
    "# Realizar un script en el cual solo sumen los numeros impares\n",
    "list_num = list(range(1,100))\n",
    "suma = 0 \n",
    "for num in list_num:\n",
    "    if num%2 == 1:\n",
    "        suma += num\n",
    "\n",
    "print(suma)\n"
   ]
  },
  {
   "cell_type": "code",
   "execution_count": 109,
   "metadata": {},
   "outputs": [],
   "source": [
    "# Realizar un script en el cual cuentes la frecuencia de elementos en una lista\n",
    "list_elem = ['a', 'b', 'c', 'd', 'a', 'e', 'f', 'd', 'a', 'c']\n"
   ]
  },
  {
   "cell_type": "code",
   "execution_count": 112,
   "metadata": {},
   "outputs": [
    {
     "name": "stdout",
     "output_type": "stream",
     "text": [
      "2500\n"
     ]
    }
   ],
   "source": [
    "sum = 0\n",
    "\n",
    "for num in range(1,101,2):\n",
    "    sum += num\n",
    "print(sum)\n"
   ]
  },
  {
   "cell_type": "code",
   "execution_count": 111,
   "metadata": {},
   "outputs": [
    {
     "name": "stdout",
     "output_type": "stream",
     "text": [
      "{'blue': 3, 'green': 2, 'red': 1, 'white': 3}\n"
     ]
    }
   ],
   "source": [
    "colors = ['blue','blue','blue','green','red','green','white','white','white']\n",
    "color_dict = {}\n",
    "\n",
    "for item in colors:\n",
    "    color_dict[item] = colors.count(item)\n",
    "\n",
    "print(color_dict)"
   ]
  },
  {
   "cell_type": "code",
   "execution_count": 115,
   "metadata": {},
   "outputs": [
    {
     "data": {
      "text/plain": [
       "8"
      ]
     },
     "execution_count": 115,
     "metadata": {},
     "output_type": "execute_result"
    }
   ],
   "source": [
    "# Funciones\n",
    "\n",
    "def mi_funcion(x):\n",
    "    return 2*x\n",
    "\n",
    "mi_funcion(4)"
   ]
  },
  {
   "cell_type": "code",
   "execution_count": 117,
   "metadata": {},
   "outputs": [
    {
     "data": {
      "text/plain": [
       "'Hello'"
      ]
     },
     "execution_count": 117,
     "metadata": {},
     "output_type": "execute_result"
    }
   ],
   "source": [
    "def greeting():\n",
    "    return \"Hello\"\n",
    "\n",
    "greeting()"
   ]
  },
  {
   "cell_type": "code",
   "execution_count": null,
   "metadata": {},
   "outputs": [],
   "source": [
    "def read_table(tabla):\n",
    "    query = f\"SELECT * FROM {tabla}\"\n",
    "    \n",
    "    return execute_query(query)"
   ]
  },
  {
   "cell_type": "code",
   "execution_count": 118,
   "metadata": {},
   "outputs": [
    {
     "name": "stdout",
     "output_type": "stream",
     "text": [
      "Hola\n"
     ]
    }
   ],
   "source": [
    "saludo = lambda: \"Hola\"\n",
    "\n",
    "print(saludo())"
   ]
  },
  {
   "cell_type": "code",
   "execution_count": 119,
   "metadata": {},
   "outputs": [
    {
     "name": "stdout",
     "output_type": "stream",
     "text": [
      "7\n"
     ]
    }
   ],
   "source": [
    "suma = lambda a,b: a+b\n",
    "print(suma(2,5))"
   ]
  },
  {
   "cell_type": "code",
   "execution_count": 120,
   "metadata": {},
   "outputs": [
    {
     "name": "stdout",
     "output_type": "stream",
     "text": [
      "10\n"
     ]
    }
   ],
   "source": [
    "doble = lambda x: 2*x\n",
    "\n",
    "print(doble(5))\n"
   ]
  },
  {
   "cell_type": "code",
   "execution_count": 121,
   "metadata": {},
   "outputs": [],
   "source": [
    "list_num = [1,2,3]\n",
    "\n",
    "resultado = list(map(lambda x: x *2, list_num))"
   ]
  },
  {
   "cell_type": "code",
   "execution_count": 122,
   "metadata": {},
   "outputs": [
    {
     "data": {
      "text/plain": [
       "[2, 4, 6]"
      ]
     },
     "execution_count": 122,
     "metadata": {},
     "output_type": "execute_result"
    }
   ],
   "source": []
  },
  {
   "cell_type": "code",
   "execution_count": null,
   "metadata": {},
   "outputs": [],
   "source": []
  }
 ],
 "metadata": {
  "kernelspec": {
   "display_name": "Python 3",
   "language": "python",
   "name": "python3"
  },
  "language_info": {
   "codemirror_mode": {
    "name": "ipython",
    "version": 3
   },
   "file_extension": ".py",
   "mimetype": "text/x-python",
   "name": "python",
   "nbconvert_exporter": "python",
   "pygments_lexer": "ipython3",
   "version": "3.10.13"
  }
 },
 "nbformat": 4,
 "nbformat_minor": 2
}
